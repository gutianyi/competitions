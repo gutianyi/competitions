{
 "cells": [
  {
   "cell_type": "code",
   "execution_count": null,
   "metadata": {},
   "outputs": [],
   "source": [
    "import pandas as  pd\n",
    "import numpy as np\n",
    "import warnings \n",
    "import datetime\n",
    "import seaborn as sns\n",
    "import matplotlib.pyplot as plt\n",
    "import datetime \n",
    "from scipy import stats\n",
    "import pandas_profiling\n",
    "import warnings\n",
    "warnings.filterwarnings('ignore')\n",
    "from sklearn.preprocessing import MinMaxScaler"
   ]
  },
  {
   "cell_type": "code",
   "execution_count": null,
   "metadata": {},
   "outputs": [],
   "source": [
    "dataset = pd.read_csv('date_label.csv')\n",
    "dataset.head()"
   ]
  },
  {
   "cell_type": "code",
   "execution_count": null,
   "metadata": {},
   "outputs": [],
   "source": [
    "dataset_purchase = pd.read_csv('date_label.csv', usecols=[2], engine='python')\n",
    "dataset_redeem = pd.read_csv('date_label.csv', usecols=[3], engine='python')\n",
    "dataset_purchase"
   ]
  },
  {
   "cell_type": "code",
   "execution_count": null,
   "metadata": {},
   "outputs": [],
   "source": [
    "def create_data_set(data_set):\n",
    "        data_x, data_y = [], []\n",
    "        for i in range(len(data_set)-1 - 30):\n",
    "            a = data_set[i:(i + 1), 0]\n",
    "            data_x.append(a)\n",
    "            data_y.append(list(data_set[i + 1: i + 1 + 30, 0]))\n",
    "        # print(numpy.array(data_y).shape)\n",
    "        return np.array(data_x), np.array(data_y), data_set[-1:, 0].reshape(1, 1, 1)"
   ]
  },
  {
   "cell_type": "code",
   "execution_count": null,
   "metadata": {},
   "outputs": [],
   "source": [
    "   def access_data(data_frame):\n",
    "        # load the data set\n",
    "        data_set = data_frame.values\n",
    "        data_set = data_set.astype('float32')\n",
    "\n",
    "        # LSTMs are sensitive to the scale of the input data, specifically when the sigmoid (default) or tanh activation functions are used. It can be a good practice to rescale the data to the range of 0-to-1, also called normalizing.\n",
    "#         scaler = MinMaxScaler(feature_range=(0, 1))\n",
    "#         data_set = scaler.fit_transform(data_set)\n",
    "\n",
    "        # reshape into X=t and Y=t+1\n",
    "        train_x, train_y, test = create_data_set(data_set)\n",
    "\n",
    "        # reshape input to be [samples, time steps, features]\n",
    "        train_x = np.reshape(train_x, (train_x.shape[0], 1, train_x.shape[1]))\n",
    "        return train_x, train_y, test#, scaler"
   ]
  },
  {
   "cell_type": "code",
   "execution_count": null,
   "metadata": {},
   "outputs": [],
   "source": [
    "from sklearn.preprocessing import MinMaxScaler\n",
    "purchase_train_x, purchase_train_y, purchase_test = access_data(dataset_purchase)\n",
    "redeem_train_x, redeem_train_y, redeem_test, redeem_scaler = access_data(dataset_redeem)"
   ]
  },
  {
   "cell_type": "code",
   "execution_count": null,
   "metadata": {},
   "outputs": [],
   "source": [
    "class RNN(nn.Module):\n",
    "    def __init__(self):\n",
    "        super(RNN, self).__init__()\n",
    "\n",
    "        self.rnn = nn.LSTM(  # if use nn.RNN(), it hardly learns\n",
    "            input_size=2,\n",
    "            hidden_size=64,  # rnn hidden unit\n",
    "            num_layers=1,  # number of rnn layer\n",
    "            batch_first=True,  # input & output will has batch size as 1s dimension. e.g. (batch, time_step, input_size)\n",
    "        )\n",
    "\n",
    "        self.out = nn.Linear(64, output_size)\n",
    "\n",
    "    def forward(self, x):\n",
    "        # x shape (batch, time_step, input_size)\n",
    "        # r_out shape (batch, time_step, output_size)\n",
    "        # h_n shape (n_layers, batch, hidden_size)\n",
    "        # h_c shape (n_layers, batch, hidden_size)\n",
    "        r_out, (h_n, h_c) = self.rnn(x, None)  # None represents zero initial hidden state\n",
    "\n",
    "        # choose r_out at the last time step\n",
    "        #         print('r_out[:, -1, :]',r_out[:, -1, :].size())\n",
    "        out = self.out(r_out[:, -1, :])\n",
    "        return out"
   ]
  }
 ],
 "metadata": {
  "kernelspec": {
   "display_name": "Python 3",
   "language": "python",
   "name": "python3"
  },
  "language_info": {
   "codemirror_mode": {
    "name": "ipython",
    "version": 3
   },
   "file_extension": ".py",
   "mimetype": "text/x-python",
   "name": "python",
   "nbconvert_exporter": "python",
   "pygments_lexer": "ipython3",
   "version": "3.7.4"
  }
 },
 "nbformat": 4,
 "nbformat_minor": 4
}
