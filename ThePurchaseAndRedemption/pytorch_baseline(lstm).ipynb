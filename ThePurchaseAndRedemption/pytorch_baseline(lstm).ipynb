{
 "cells": [
  {
   "cell_type": "code",
   "execution_count": 10,
   "metadata": {},
   "outputs": [],
   "source": [
    "import pandas as  pd\n",
    "import numpy as np\n",
    "import warnings \n",
    "import datetime\n",
    "import seaborn as sns\n",
    "import matplotlib.pyplot as plt\n",
    "import datetime \n",
    "from scipy import stats\n",
    "import pandas_profiling\n",
    "import warnings\n",
    "warnings.filterwarnings('ignore')\n",
    "from sklearn.preprocessing import MinMaxScaler\n",
    "import torch.utils.data as Data\n",
    "from sklearn.model_selection import train_test_split\n",
    "import torch"
   ]
  },
  {
   "cell_type": "code",
   "execution_count": 11,
   "metadata": {},
   "outputs": [],
   "source": [
    "dataset = pd.read_csv('date_label.csv')"
   ]
  },
  {
   "cell_type": "code",
   "execution_count": 12,
   "metadata": {},
   "outputs": [],
   "source": [
    "dataset_purchase = pd.read_csv('date_label.csv', usecols=[2], engine='python')\n",
    "dataset_redeem = pd.read_csv('date_label.csv', usecols=[3], engine='python')"
   ]
  },
  {
   "cell_type": "code",
   "execution_count": 13,
   "metadata": {},
   "outputs": [],
   "source": [
    "    def create_data_set(data_set):\n",
    "        data_x, data_y = [], []\n",
    "        for i in range(len(data_set)-40 - 30):\n",
    "            a = data_set[i:(i + 40), 0]\n",
    "            data_x.append(a)\n",
    "            data_y.append(list(data_set[i + 40: i + 40 + 30, 0]))\n",
    "        # print(numpy.array(data_y).shape)\n",
    "        return np.array(data_x), np.array(data_y), data_set[-40:, 0].reshape(1, 1, 40)"
   ]
  },
  {
   "cell_type": "code",
   "execution_count": 14,
   "metadata": {},
   "outputs": [],
   "source": [
    "   def access_data(data_frame):\n",
    "        # load the data set\n",
    "        data_set = data_frame.values\n",
    "        data_set = data_set.astype('float32')\n",
    "\n",
    "        # LSTMs are sensitive to the scale of the input data, specifically when the sigmoid (default) or tanh activation functions are used. It can be a good practice to rescale the data to the range of 0-to-1, also called normalizing.\n",
    "        scaler = MinMaxScaler(feature_range=(0, 1))\n",
    "        data_set = scaler.fit_transform(data_set)\n",
    "\n",
    "        # reshape into X=t and Y=t+1\n",
    "        train_x, train_y, test = create_data_set(data_set)\n",
    "\n",
    "        # reshape input to be [samples, time steps, features]\n",
    "        train_x = np.reshape(train_x, (train_x.shape[0], 1, train_x.shape[1]))\n",
    "        return train_x, train_y, test, scaler"
   ]
  },
  {
   "cell_type": "code",
   "execution_count": 15,
   "metadata": {},
   "outputs": [
    {
     "data": {
      "text/plain": [
       "array([[[0.00716242, 0.0017188 , 0.00794832, ..., 0.05148092,\n",
       "         0.05119317, 0.05225483]],\n",
       "\n",
       "       [[0.0017188 , 0.00794832, 0.00878555, ..., 0.05119317,\n",
       "         0.05225483, 0.04581037]],\n",
       "\n",
       "       [[0.00794832, 0.00878555, 0.00210188, ..., 0.05225483,\n",
       "         0.04581037, 0.02520903]],\n",
       "\n",
       "       ...,\n",
       "\n",
       "       [[0.5222233 , 0.42036986, 0.65912163, ..., 0.30236444,\n",
       "         0.63108546, 0.55318844]],\n",
       "\n",
       "       [[0.42036986, 0.65912163, 0.6820178 , ..., 0.63108546,\n",
       "         0.55318844, 0.45539764]],\n",
       "\n",
       "       [[0.65912163, 0.6820178 , 0.782245  , ..., 0.55318844,\n",
       "         0.45539764, 0.50501776]]], dtype=float32)"
      ]
     },
     "execution_count": 15,
     "metadata": {},
     "output_type": "execute_result"
    }
   ],
   "source": [
    "from sklearn.preprocessing import MinMaxScaler\n",
    "purchase_train_x, purchase_train_y, purchase_test, purchase_scaler = access_data(dataset_purchase)\n",
    "redeem_train_x, redeem_train_y, redeem_test,redeem_scaler = access_data(dataset_redeem)\n",
    "redeem_train_x"
   ]
  },
  {
   "cell_type": "code",
   "execution_count": 16,
   "metadata": {},
   "outputs": [],
   "source": [
    "batch_size=16\n",
    "epochs_purchase=150 \n",
    "epochs_redeem=230\n",
    "torch_train_purchase = Data.TensorDataset(torch.Tensor(purchase_train_x), torch.Tensor(purchase_train_y))\n",
    "purchase_train_loader = Data.DataLoader(\n",
    "    dataset=torch_train_purchase,  # torch TensorDataset format\n",
    "    batch_size=16,  # mini batch size\n",
    "    shuffle=False,  # 要不要打乱数据 (打乱比较好)\n",
    "    num_workers=2,  # 多线程来读数据\n",
    ")\n",
    "\n",
    "torch_train_redeem = Data.TensorDataset(torch.Tensor(redeem_train_x), torch.Tensor(redeem_train_y))\n",
    "redeem_train_loader = Data.DataLoader(\n",
    "    dataset=torch_train_redeem,\n",
    "    batch_size=16,  # mini batch size\n",
    "    shuffle=False,  # 要不要打乱数据 (打乱比较好)\n",
    "    num_workers=2,  # 多线程来读数据\n",
    ")"
   ]
  },
  {
   "cell_type": "code",
   "execution_count": 17,
   "metadata": {},
   "outputs": [
    {
     "name": "stdout",
     "output_type": "stream",
     "text": [
      "RNN(\n",
      "  (rnn1): LSTM(40, 64, batch_first=True)\n",
      "  (rnn2): LSTM(64, 32, batch_first=True)\n",
      "  (linear): Linear(in_features=32, out_features=32, bias=True)\n",
      "  (out): Linear(in_features=32, out_features=30, bias=True)\n",
      ")\n"
     ]
    }
   ],
   "source": [
    "import torch.nn as nn\n",
    "class RNN(nn.Module):\n",
    "    def __init__(self):\n",
    "        super(RNN, self).__init__()\n",
    "#         input (batch_size, 1, 1)\n",
    "        self.rnn1 = nn.LSTM(  # if use nn.RNN(), it hardly learns\n",
    "            input_size=40,\n",
    "            hidden_size=64,  # rnn hidden unit\n",
    "            num_layers=1,  # number of rnn layer\n",
    "            batch_first=True,  # input & output will has batch size as 1s dimension. e.g. (batch, time_step, input_size)\n",
    "        )\n",
    "        self.rnn2 = nn.LSTM(\n",
    "            input_size=64,\n",
    "            hidden_size=32, \n",
    "            num_layers=1,\n",
    "            batch_first=True,\n",
    "            )\n",
    "        self.linear = nn.Linear(32, 32)\n",
    "        self.out = nn.Linear(32, 30)\n",
    "\n",
    "    def forward(self, x):\n",
    "#         print(x.size())\n",
    "        r1_out, (h_n1, h_c1) = self.rnn1(x, None)\n",
    "#         print(r1_out.size())\n",
    "        r2_out, (h_n2, h_c2) = self.rnn2(r1_out, None)\n",
    "        linear_out = self.linear(r2_out[:, -1, :])\n",
    "        out = self.out(linear_out)\n",
    "        return out\n",
    "    \n",
    "model = RNN()\n",
    "model_r = RNN()\n",
    "print(model)\n",
    "import torch.optim as optim\n",
    "# 定义优化器\n",
    "optimizer = optim.Adam(model.parameters())\n",
    "loss_func = nn.MSELoss()\n",
    "# torch.optim.lr_scheduler.ReduceLROnPlateau(optimizer, mode='min', factor=0.1, patience=10, verbose=False, threshold=0.0001, threshold_mode='rel', cooldown=0, min_lr=0, eps=1e-08)\n",
    "\n",
    "# optimizer_r = optim.Adam(model_r.parameters())\n",
    "# loss_func_r = nn.MSELoss()\n",
    "\n",
    "from sklearn.metrics import mean_squared_error"
   ]
  },
  {
   "cell_type": "code",
   "execution_count": 18,
   "metadata": {},
   "outputs": [
    {
     "name": "stdout",
     "output_type": "stream",
     "text": [
      "epoch:  0 | loss:  0.03560239 | mse:  0.03560239086532389\n",
      "epoch:  50 | loss:  0.004969255 | mse:  0.0049692551106413265\n",
      "epoch:  100 | loss:  0.0043036775 | mse:  0.004303677519291411\n",
      "epoch:  150 | loss:  0.004268379 | mse:  0.0042683788209086256\n",
      "epoch:  200 | loss:  0.004287517 | mse:  0.004287517361132246\n",
      "epoch:  250 | loss:  0.004160015 | mse:  0.0041600148212425775\n",
      "epoch:  300 | loss:  0.0034777776 | mse:  0.0034777775945498577\n",
      "epoch:  350 | loss:  0.0028796766 | mse:  0.0028796765313035236\n",
      "epoch:  400 | loss:  0.0028950204 | mse:  0.0028950203713124165\n",
      "epoch:  450 | loss:  0.002625563 | mse:  0.0026255628419819123\n",
      "epoch:  500 | loss:  0.0024594404 | mse:  0.002459440271410604\n",
      "----------------------\n",
      "epoch:  0 | loss:  0.025482737 | mse:  0.025482735880716017\n",
      "epoch:  50 | loss:  0.007705538 | mse:  0.007705537886599425\n",
      "epoch:  100 | loss:  0.0065646926 | mse:  0.006564692709733626\n",
      "epoch:  150 | loss:  0.0054894267 | mse:  0.005489426498333969\n",
      "epoch:  200 | loss:  0.0053771557 | mse:  0.005377155523698926\n",
      "epoch:  250 | loss:  0.0044394527 | mse:  0.004439452585709798\n",
      "epoch:  300 | loss:  0.0038699908 | mse:  0.0038699909217224985\n",
      "epoch:  350 | loss:  0.0034114497 | mse:  0.003411449679528699\n",
      "epoch:  400 | loss:  0.0031214552 | mse:  0.0031214550990606165\n",
      "epoch:  450 | loss:  0.0038491422 | mse:  0.0038491421901464097\n",
      "epoch:  500 | loss:  0.0028529062 | mse:  0.0028529061298826945\n"
     ]
    }
   ],
   "source": [
    "best_loss_p = float('inf')\n",
    "for epoch in range(501):\n",
    "    for step, (batch_x, batch_y) in enumerate(purchase_train_loader):\n",
    "        output = model(batch_x)\n",
    "#         print('output:',output.size(),'batch_y:',batch_y.size())\n",
    "        loss = loss_func(output, batch_y)  # cross entropy loss\n",
    "\n",
    "        optimizer.zero_grad()  # clear gradients for this training step\n",
    "        loss.backward()  # backpropagation, compute gradients\n",
    "        optimizer.step()\n",
    "        mse = mean_squared_error(batch_y.numpy().tolist(), output.detach().numpy())\n",
    "        if loss.detach().numpy() < best_loss_p:\n",
    "            best_loss_p = loss.detach().numpy()\n",
    "            torch.save(model.state_dict(), 'stock-lstm-p-model.pt')\n",
    "            \n",
    "    if epoch % 50 == 0:\n",
    "        print('epoch: ', epoch, '| loss: ', loss.detach().numpy(), '| mse: ', mse)\n",
    "\n",
    "print('----------------------')\n",
    "best_loss_r = float('inf')\n",
    "for epoch in range(501):\n",
    "    for step, (batch_x, batch_y) in enumerate(redeem_train_loader):\n",
    "        output = model(batch_x)\n",
    "#         print('output:',output.size(),'batch_y:',batch_y.size())\n",
    "        loss = loss_func(output, batch_y)  # cross entropy loss\n",
    "\n",
    "        optimizer.zero_grad()  # clear gradients for this training step\n",
    "        loss.backward()  # backpropagation, compute gradients\n",
    "        optimizer.step()\n",
    "        mse = mean_squared_error(batch_y.numpy().tolist(), output.detach().numpy())\n",
    "        if loss.detach().numpy() < best_loss_r:\n",
    "            best_loss_r = loss.detach().numpy()\n",
    "            torch.save(model.state_dict(), 'stock-lstm-r-model.pt')\n",
    "            \n",
    "    if epoch % 50 == 0:\n",
    "        print('epoch: ', epoch, '| loss: ', loss.detach().numpy(), '| mse: ', mse)"
   ]
  },
  {
   "cell_type": "code",
   "execution_count": 19,
   "metadata": {},
   "outputs": [
    {
     "data": {
      "text/plain": [
       "(1, 30)"
      ]
     },
     "execution_count": 19,
     "metadata": {},
     "output_type": "execute_result"
    }
   ],
   "source": [
    "model.load_state_dict(torch.load('stock-lstm-p-model.pt'))\n",
    "model_r.load_state_dict(torch.load('stock-lstm-r-model.pt'))\n",
    "pred_purchase = model(torch.Tensor(purchase_test)).detach().numpy()\n",
    "purchase = purchase_scaler.inverse_transform(pred_purchase)\n",
    "\n",
    "pred_redeem = model_r(torch.Tensor(redeem_test)).detach().numpy()\n",
    "redeem = redeem_scaler.inverse_transform(pred_redeem)\n",
    "np.shape(purchase)"
   ]
  },
  {
   "cell_type": "code",
   "execution_count": 20,
   "metadata": {},
   "outputs": [
    {
     "name": "stdout",
     "output_type": "stream",
     "text": [
      "    report_date     purchase       redeem\n",
      "0      20140901  303569216.0  326890048.0\n",
      "1      20140902  333317248.0  263576704.0\n",
      "2      20140903  330279808.0  263136800.0\n",
      "3      20140904  280795168.0  258862368.0\n",
      "4      20140905  226916416.0  270493504.0\n",
      "5      20140906  206948208.0  197618688.0\n",
      "6      20140907  242488672.0  169432288.0\n",
      "7      20140908  303694880.0  332323616.0\n",
      "8      20140909  332310880.0  318817536.0\n",
      "9      20140910  312490560.0  364077376.0\n",
      "10     20140911  258215440.0  360447552.0\n",
      "11     20140912  207631024.0  363669120.0\n",
      "12     20140913  200364288.0  278055648.0\n",
      "13     20140914  243133472.0  267004608.0\n",
      "14     20140915  305481184.0  394079296.0\n",
      "15     20140916  335481792.0  367010336.0\n",
      "16     20140917  327982464.0  356311328.0\n",
      "17     20140918  277513568.0  286828832.0\n",
      "18     20140919  229964048.0  284435968.0\n",
      "19     20140920  217208608.0  217241088.0\n",
      "20     20140921  255285520.0  194224112.0\n",
      "21     20140922  317112608.0  316206496.0\n",
      "22     20140923  345486688.0  336977472.0\n",
      "23     20140924  335291008.0  366563936.0\n",
      "24     20140925  281609088.0  364614816.0\n",
      "25     20140926  229555968.0  329586560.0\n",
      "26     20140927  211296272.0  259725888.0\n",
      "27     20140928  254760304.0  233867808.0\n",
      "28     20140929  313500672.0  371132672.0\n",
      "29     20140930  350957536.0  353038304.0\n"
     ]
    },
    {
     "data": {
      "image/png": "[encoded data removed]",
      "text/plain": [
       "<Figure size 1440x432 with 1 Axes>"
      ]
     },
     "metadata": {
      "needs_background": "light"
     },
     "output_type": "display_data"
    }
   ],
   "source": [
    "import matplotlib.pyplot as plt\n",
    "test_user = pd.DataFrame({'report_date': [20140900 + i for i in range(1, 31)]})\n",
    "np.shape(test_user)\n",
    "test_user['purchase'] = purchase.reshape(30, 1)\n",
    "test_user['redeem'] = redeem.reshape(30, 1)\n",
    "print(test_user)\n",
    "plt.figure(figsize=(20,6))\n",
    "plt.plot(test_user)\n",
    "plt.show()"
   ]
  },
  {
   "cell_type": "code",
   "execution_count": null,
   "metadata": {},
   "outputs": [],
   "source": [
    "test_user.to_csv('submit_lstm.csv', encoding='utf-8', index=None, header=None)"
   ]
  },
  {
   "cell_type": "code",
   "execution_count": null,
   "metadata": {},
   "outputs": [],
   "source": []
  }
 ],
 "metadata": {
  "kernelspec": {
   "display_name": "Python 3",
   "language": "python",
   "name": "python3"
  },
  "language_info": {
   "codemirror_mode": {
    "name": "ipython",
    "version": 3
   },
   "file_extension": ".py",
   "mimetype": "text/x-python",
   "name": "python",
   "nbconvert_exporter": "python",
   "pygments_lexer": "ipython3",
   "version": "3.7.4"
  }
 },
 "nbformat": 4,
 "nbformat_minor": 4
}
