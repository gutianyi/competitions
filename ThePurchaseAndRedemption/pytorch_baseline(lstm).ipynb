{
 "cells": [
  {
   "cell_type": "code",
   "execution_count": 1,
   "metadata": {},
   "outputs": [],
   "source": [
    "import pandas as  pd\n",
    "import numpy as np\n",
    "import warnings \n",
    "import datetime\n",
    "import seaborn as sns\n",
    "import matplotlib.pyplot as plt\n",
    "import datetime \n",
    "from scipy import stats\n",
    "import pandas_profiling\n",
    "import warnings\n",
    "warnings.filterwarnings('ignore')\n",
    "from sklearn.preprocessing import MinMaxScaler\n",
    "import torch.utils.data as Data\n",
    "from sklearn.model_selection import train_test_split\n",
    "import torch"
   ]
  },
  {
   "cell_type": "code",
   "execution_count": 2,
   "metadata": {},
   "outputs": [],
   "source": [
    "device = torch.device('cuda' if torch.cuda.is_available() else 'cpu')"
   ]
  },
  {
   "cell_type": "code",
   "execution_count": 3,
   "metadata": {},
   "outputs": [],
   "source": [
    "dataset = pd.read_csv('date_label.csv')"
   ]
  },
  {
   "cell_type": "code",
   "execution_count": 4,
   "metadata": {},
   "outputs": [],
   "source": [
    "dataset_purchase = pd.read_csv('date_label.csv', usecols=[2], engine='python')\n",
    "dataset_redeem = pd.read_csv('date_label.csv', usecols=[3], engine='python')"
   ]
  },
  {
   "cell_type": "code",
   "execution_count": 5,
   "metadata": {},
   "outputs": [],
   "source": [
    "    def create_data_set(data_set):\n",
    "        data_x, data_y = [], []\n",
    "        for i in range(len(data_set)-40 - 30):\n",
    "            a = data_set[i:(i + 40), 0]\n",
    "            data_x.append(a)\n",
    "            data_y.append(list(data_set[i + 40: i + 40 + 30, 0]))\n",
    "        # print(numpy.array(data_y).shape)\n",
    "        return np.array(data_x), np.array(data_y), data_set[-40:, 0].reshape(1, 1, 40)"
   ]
  },
  {
   "cell_type": "code",
   "execution_count": 6,
   "metadata": {},
   "outputs": [],
   "source": [
    "   def access_data(data_frame):\n",
    "        # load the data set\n",
    "        data_set = data_frame.values\n",
    "        data_set = data_set.astype('float32')\n",
    "\n",
    "        # LSTMs are sensitive to the scale of the input data, specifically when the sigmoid (default) or tanh activation functions are used. It can be a good practice to rescale the data to the range of 0-to-1, also called normalizing.\n",
    "        scaler = MinMaxScaler(feature_range=(0, 1))\n",
    "        data_set = scaler.fit_transform(data_set)\n",
    "\n",
    "        # reshape into X=t and Y=t+1\n",
    "        train_x, train_y, test = create_data_set(data_set)\n",
    "\n",
    "        # reshape input to be [samples, time steps, features]\n",
    "        train_x = np.reshape(train_x, (train_x.shape[0], 1, train_x.shape[1]))\n",
    "        return train_x, train_y, test, scaler"
   ]
  },
  {
   "cell_type": "code",
   "execution_count": 7,
   "metadata": {},
   "outputs": [],
   "source": [
    "from sklearn.preprocessing import MinMaxScaler\n",
    "purchase_train_x, purchase_train_y, purchase_test, purchase_scaler = access_data(dataset_purchase)\n",
    "redeem_train_x, redeem_train_y, redeem_test,redeem_scaler = access_data(dataset_redeem)"
   ]
  },
  {
   "cell_type": "code",
   "execution_count": 8,
   "metadata": {},
   "outputs": [],
   "source": [
    "batch_size=16\n",
    "epochs_purchase=150 \n",
    "epochs_redeem=230\n",
    "torch_train_purchase = Data.TensorDataset(torch.Tensor(purchase_train_x), torch.Tensor(purchase_train_y))\n",
    "purchase_train_loader = Data.DataLoader(\n",
    "    dataset=torch_train_purchase,  # torch TensorDataset format\n",
    "    batch_size=16,  # mini batch size\n",
    "    shuffle=False,  # 要不要打乱数据 (打乱比较好)\n",
    "    num_workers=2,  # 多线程来读数据\n",
    ")\n",
    "\n",
    "torch_train_redeem = Data.TensorDataset(torch.Tensor(redeem_train_x), torch.Tensor(redeem_train_y))\n",
    "redeem_train_loader = Data.DataLoader(\n",
    "    dataset=torch_train_redeem,\n",
    "    batch_size=16,  # mini batch size\n",
    "    shuffle=False,  # 要不要打乱数据 (打乱比较好)\n",
    "    num_workers=2,  # 多线程来读数据\n",
    ")"
   ]
  },
  {
   "cell_type": "code",
   "execution_count": 9,
   "metadata": {},
   "outputs": [
    {
     "name": "stdout",
     "output_type": "stream",
     "text": [
      "RNN(\n",
      "  (rnn1): LSTM(40, 64, batch_first=True)\n",
      "  (rnn2): LSTM(64, 32, batch_first=True)\n",
      "  (linear): Linear(in_features=32, out_features=32, bias=True)\n",
      "  (out): Linear(in_features=32, out_features=30, bias=True)\n",
      ")\n"
     ]
    }
   ],
   "source": [
    "import torch.nn as nn\n",
    "class RNN(nn.Module):\n",
    "    def __init__(self):\n",
    "        super(RNN, self).__init__()\n",
    "#         input (batch_size, 1, 1)\n",
    "        self.rnn1 = nn.LSTM(  # if use nn.RNN(), it hardly learns\n",
    "            input_size=40,\n",
    "            hidden_size=64,  # rnn hidden unit\n",
    "            num_layers=1,  # number of rnn layer\n",
    "            batch_first=True,  # input & output will has batch size as 1s dimension. e.g. (batch, time_step, input_size)\n",
    "        )\n",
    "        self.rnn2 = nn.LSTM(\n",
    "            input_size=64,\n",
    "            hidden_size=32, \n",
    "            num_layers=1,\n",
    "            batch_first=True,\n",
    "            )\n",
    "        self.linear = nn.Linear(32, 32)\n",
    "        self.out = nn.Linear(32, 30)\n",
    "\n",
    "    def forward(self, x):\n",
    "#         print(x.size())\n",
    "        r1_out, (h_n1, h_c1) = self.rnn1(x, None)\n",
    "#         print(r1_out.size())\n",
    "        r2_out, (h_n2, h_c2) = self.rnn2(r1_out, None)\n",
    "        linear_out = self.linear(r2_out[:, -1, :])\n",
    "        out = self.out(linear_out)\n",
    "        return out\n",
    "    \n",
    "model = RNN()\n",
    "model = model.to(device)\n",
    "model_r = RNN()\n",
    "model_r = model_r.to(device)\n",
    "print(model)\n",
    "import torch.optim as optim\n",
    "# 定义优化器\n",
    "optimizer = optim.Adam(model.parameters())\n",
    "loss_func = nn.MSELoss()\n",
    "loss_func = loss_func.to(device)\n",
    "# torch.optim.lr_scheduler.ReduceLROnPlateau(optimizer, mode='min', factor=0.1, patience=10, verbose=False, threshold=0.0001, threshold_mode='rel', cooldown=0, min_lr=0, eps=1e-08)\n",
    "\n",
    "# optimizer_r = optim.Adam(model_r.parameters())\n",
    "# loss_func_r = nn.MSELoss()\n",
    "\n",
    "from sklearn.metrics import mean_squared_error"
   ]
  },
  {
   "cell_type": "code",
   "execution_count": 10,
   "metadata": {},
   "outputs": [],
   "source": [
    "import time\n",
    "start = time.time()\n",
    "best_loss_p = float('inf')\n",
    "for epoch in range(801):\n",
    "    for step, (batch_x, batch_y) in enumerate(purchase_train_loader):\n",
    "        batch_x = batch_x.cuda()\n",
    "        batch_y = batch_y.cuda()\n",
    "        \n",
    "        output = model(batch_x)\n",
    "#         print('output:',output.size(),'batch_y:',batch_y.size())\n",
    "        loss = loss_func(output, batch_y)  # cross entropy loss\n",
    "\n",
    "        optimizer.zero_grad()  # clear gradients for this training step\n",
    "        loss.backward()  # backpropagation, compute gradients\n",
    "        optimizer.step()\n",
    "        mse = mean_squared_error(batch_y.cpu().numpy().tolist(), output.cpu().detach().numpy())\n",
    "        if loss.cpu().detach().numpy() < best_loss_p:\n",
    "            best_loss_p = loss.cpu().detach().numpy()\n",
    "            torch.save(model.state_dict(), 'stock-lstm-p-model.pt')\n",
    "            \n",
    "    if epoch % 50 == 0:\n",
    "        print('epoch: ', epoch, '| loss: ', loss.cpu().detach().numpy(), '| mse: ', mse)\n",
    "end = time.time()\n",
    "print('time', end -start)\n",
    "print('----------------------')\n",
    "best_loss_r = float('inf')\n",
    "for epoch in range(801):\n",
    "    for step, (batch_x, batch_y) in enumerate(redeem_train_loader):\n",
    "        batch_x = batch_x.cuda()\n",
    "        batch_y = batch_y.cuda()\n",
    "        \n",
    "        output = model(batch_x)\n",
    "#         print('output:',output.size(),'batch_y:',batch_y.size())\n",
    "        loss = loss_func(output, batch_y)  # cross entropy loss\n",
    "\n",
    "        optimizer.zero_grad()  # clear gradients for this training step\n",
    "        loss.backward()  # backpropagation, compute gradients\n",
    "        optimizer.step()\n",
    "        mse = mean_squared_error(batch_y.cpu().numpy().tolist(), output.cpu().detach().numpy())\n",
    "        if loss.cpu().detach().numpy() < best_loss_r:\n",
    "            best_loss_r = loss.cpu().detach().numpy()\n",
    "            torch.save(model.state_dict(), 'stock-lstm-r-model.pt')\n",
    "            \n",
    "    if epoch % 50 == 0:\n",
    "        print('epoch: ', epoch, '| loss: ', loss.cpu().detach().numpy(), '| mse: ', mse)\n",
    "print('time', time.time() -end)"
   ]
  },
  {
   "cell_type": "code",
   "execution_count": 14,
   "metadata": {},
   "outputs": [
    {
     "data": {
      "text/plain": [
       "(1, 30)"
      ]
     },
     "execution_count": 14,
     "metadata": {},
     "output_type": "execute_result"
    }
   ],
   "source": [
    "model.load_state_dict(torch.load('stock-lstm-p-model.pt'))\n",
    "model_r.load_state_dict(torch.load('stock-lstm-r-model.pt'))\n",
    "\n",
    "pred_purchase = model(torch.Tensor(purchase_test).cuda()).cpu().detach().numpy()\n",
    "purchase = purchase_scaler.inverse_transform(pred_purchase)\n",
    "\n",
    "pred_redeem = model_r(torch.Tensor(redeem_test).cuda()).cpu().detach().numpy()\n",
    "redeem = redeem_scaler.inverse_transform(pred_redeem)\n",
    "np.shape(purchase)"
   ]
  },
  {
   "cell_type": "code",
   "execution_count": 15,
   "metadata": {},
   "outputs": [
    {
     "name": "stdout",
     "output_type": "stream",
     "text": [
      "    report_date     purchase       redeem\n",
      "0      20140901  361323328.0  432715008.0\n",
      "1      20140902  336719360.0  351328960.0\n",
      "2      20140903  283612896.0  378845024.0\n",
      "3      20140904  283391168.0  393843808.0\n",
      "4      20140905  250856240.0  300499008.0\n",
      "5      20140906  209395680.0  185028032.0\n",
      "6      20140907  210976848.0  202393776.0\n",
      "7      20140908  263848016.0  448511328.0\n",
      "8      20140909  308820032.0  338554112.0\n",
      "9      20140910  345277216.0  328676928.0\n",
      "10     20140911  361439808.0  347784128.0\n",
      "11     20140912  242025408.0  341307680.0\n",
      "12     20140913  178045296.0  231010368.0\n",
      "13     20140914  244101776.0  187419840.0\n",
      "14     20140915  335565664.0  447279808.0\n",
      "15     20140916  321984384.0  384667840.0\n",
      "16     20140917  284503008.0  348553312.0\n",
      "17     20140918  269428384.0  320405088.0\n",
      "18     20140919  203531632.0  312520224.0\n",
      "19     20140920  186996720.0  250173184.0\n",
      "20     20140921  222681280.0  216766304.0\n",
      "21     20140922  271929312.0  370317536.0\n",
      "22     20140923  271729248.0  318718592.0\n",
      "23     20140924  268239104.0  328119872.0\n",
      "24     20140925  269000352.0  363968512.0\n",
      "25     20140926  202470544.0  302370464.0\n",
      "26     20140927  177841360.0  216764032.0\n",
      "27     20140928  231865216.0  176607104.0\n",
      "28     20140929  310598944.0  425983168.0\n",
      "29     20140930  335082112.0  360411584.0\n"
     ]
    },
    {
     "data": {
      "image/png": "[encoded data removed]",
      "text/plain": [
       "<Figure size 1440x432 with 1 Axes>"
      ]
     },
     "metadata": {
      "needs_background": "light"
     },
     "output_type": "display_data"
    }
   ],
   "source": [
    "import matplotlib.pyplot as plt\n",
    "test_user = pd.DataFrame({'report_date': [20140900 + i for i in range(1, 31)]})\n",
    "np.shape(test_user)\n",
    "test_user['purchase'] = purchase.reshape(30, 1)\n",
    "test_user['redeem'] = redeem.reshape(30, 1)\n",
    "print(test_user)\n",
    "plt.figure(figsize=(20,6))\n",
    "plt.plot(test_user)\n",
    "plt.show()"
   ]
  },
  {
   "cell_type": "code",
   "execution_count": 16,
   "metadata": {},
   "outputs": [],
   "source": [
    "test_user.to_csv('submit_lstm.csv', encoding='utf-8', index=None, header=None)"
   ]
  },
  {
   "cell_type": "code",
   "execution_count": 9,
   "metadata": {},
   "outputs": [],
   "source": [
    "def out_func():\n",
    "    x = 0\n",
    "    def inner_func():\n",
    "        x = 1\n",
    "        print('inner x: ',x)\n",
    "        print('inner x id: ',id(x))\n",
    "    print('out x before: ',x)\n",
    "    print('out x id before: ',id(x))\n",
    "    inner_func()\n",
    "    print('out x after: ',x)\n",
    "    print('out x id after: ',id(x))\n"
   ]
  },
  {
   "cell_type": "code",
   "execution_count": 10,
   "metadata": {},
   "outputs": [
    {
     "name": "stdout",
     "output_type": "stream",
     "text": [
      "out x before:  0\n",
      "out x id before:  4369831024\n",
      "inner x:  1\n",
      "inner x id:  4369831056\n",
      "out x after:  0\n",
      "out x id after:  4369831024\n"
     ]
    }
   ],
   "source": [
    "a = out_func()"
   ]
  },
  {
   "cell_type": "code",
   "execution_count": null,
   "metadata": {},
   "outputs": [],
   "source": []
  }
 ],
 "metadata": {
  "kernelspec": {
   "display_name": "Python 3",
   "language": "python",
   "name": "python3"
  },
  "language_info": {
   "codemirror_mode": {
    "name": "ipython",
    "version": 3
   },
   "file_extension": ".py",
   "mimetype": "text/x-python",
   "name": "python",
   "nbconvert_exporter": "python",
   "pygments_lexer": "ipython3",
   "version": "3.7.4"
  }
 },
 "nbformat": 4,
 "nbformat_minor": 4
}
